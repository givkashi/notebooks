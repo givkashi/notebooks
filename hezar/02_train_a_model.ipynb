{
 "cells": [
  {
   "attachments": {},
   "cell_type": "markdown",
   "metadata": {},
   "source": [
    "# Training a model in Hezar"
   ]
  },
  {
   "attachments": {},
   "cell_type": "markdown",
   "metadata": {},
   "source": [
    "In this notebook, we're gonna demonstrate a training walkthrough. Training a model in Hezar is pretty much like any other library or even simpler! As mentioned before, any model in Hezar is also a PyTorch module. So training a model is actually training a PyTorch model with some more cool features! Lets dive in."
   ]
  },
  {
   "cell_type": "code",
   "execution_count": 1,
   "metadata": {},
   "outputs": [
    {
     "name": "stderr",
     "output_type": "stream",
     "text": [
      "/home/aryan/Applications/miniconda3/envs/main/lib/python3.8/site-packages/tqdm/auto.py:22: TqdmWarning: IProgress not found. Please update jupyter and ipywidgets. See https://ipywidgets.readthedocs.io/en/stable/user_install.html\n",
      "  from .autonotebook import tqdm as notebook_tqdm\n"
     ]
    }
   ],
   "source": [
    "from hezar import (\n",
    "    TrainConfig,\n",
    "    Trainer,\n",
    "    TextClassificationDatasetConfig,\n",
    "    build_dataset,\n",
    "    build_model,\n",
    "    build_optimizer,\n",
    "    build_scheduler,\n",
    ")"
   ]
  },
  {
   "attachments": {},
   "cell_type": "markdown",
   "metadata": {},
   "source": [
    "### Build the datasets"
   ]
  },
  {
   "attachments": {},
   "cell_type": "markdown",
   "metadata": {},
   "source": [
    "First things first, lets build our datasets. Your dataset can be either a normal `PyTorch Dataset` or a Hezar `Dataset`. Here we use a simple `TextClassificationDataset` from Hezar.\n"
   ]
  },
  {
   "attachments": {},
   "cell_type": "markdown",
   "metadata": {},
   "source": [
    "Hezar datasets are built using a `DatasetConfig`. So lets define our dataset parameters."
   ]
  },
  {
   "cell_type": "code",
   "execution_count": 2,
   "metadata": {},
   "outputs": [
    {
     "data": {
      "text/plain": [
       "TextClassificationDatasetConfig(name='text_classification', config_type='dataset', task='text_classification', path='hezar-ai/sentiment_digikala_snappfood', normalizers=None, tokenizer_path='hezar-ai/bert-base-fa', label_field='label', text_field='text', max_length=None)"
      ]
     },
     "execution_count": 2,
     "metadata": {},
     "output_type": "execute_result"
    }
   ],
   "source": [
    "dataset_config = TextClassificationDatasetConfig(\n",
    "    path=\"hezar-ai/sentiment_digikala_snappfood\",\n",
    "    text_field=\"text\",\n",
    "    label_field=\"label\",\n",
    "    tokenizer_path=\"hezar-ai/bert-base-fa\",\n",
    ")\n",
    "dataset_config"
   ]
  },
  {
   "attachments": {},
   "cell_type": "markdown",
   "metadata": {},
   "source": [
    "Now create train/validation datasets."
   ]
  },
  {
   "cell_type": "code",
   "execution_count": 3,
   "metadata": {},
   "outputs": [
    {
     "name": "stderr",
     "output_type": "stream",
     "text": [
      "Found cached dataset sentiment_digikala_snappfood (/home/aryan/.cache/huggingface/datasets/hezar-ai___sentiment_digikala_snappfood/default/0.0.0/1302e757606fe651f42166af308f6002a67f0f78beab10903a743bfa615150c2)\n",
      "Found cached dataset sentiment_digikala_snappfood (/home/aryan/.cache/huggingface/datasets/hezar-ai___sentiment_digikala_snappfood/default/0.0.0/1302e757606fe651f42166af308f6002a67f0f78beab10903a743bfa615150c2)\n"
     ]
    }
   ],
   "source": [
    "train_dataset = build_dataset(name=\"text_classification\", split=\"train\", config=dataset_config)\n",
    "eval_dataset = build_dataset(name=\"text_classification\", split=\"test\", config=dataset_config)"
   ]
  },
  {
   "attachments": {},
   "cell_type": "markdown",
   "metadata": {},
   "source": [
    "### Build the model"
   ]
  },
  {
   "attachments": {},
   "cell_type": "markdown",
   "metadata": {},
   "source": [
    "Choose a model for this task and build the model as you would normally do in Hezar (See [models overview](01_models_overview.ipynb))"
   ]
  },
  {
   "cell_type": "code",
   "execution_count": 4,
   "metadata": {},
   "outputs": [],
   "source": [
    "model = build_model(\"bert_text_classification\", id2label=train_dataset.id2label)  # we add id2label as a config parameter since it's necessary for a classification model"
   ]
  },
  {
   "attachments": {},
   "cell_type": "markdown",
   "metadata": {},
   "source": [
    "### Define optimizer"
   ]
  },
  {
   "attachments": {},
   "cell_type": "markdown",
   "metadata": {},
   "source": [
    "We use the typical `Adam` with a `Reduce On Plateau` scheduler"
   ]
  },
  {
   "cell_type": "code",
   "execution_count": 5,
   "metadata": {},
   "outputs": [],
   "source": [
    "optimizer = build_optimizer(\"adam\", model.parameters(), lr=2e-5)\n",
    "lr_scheduler = build_scheduler(\"reduce_on_plateau\", optimizer=optimizer)\n",
    "\n",
    "# Optionally you can configure optimizer and scheduler as you would in PyTorch\n",
    "# from torch import optim\n",
    "# optimizer = optim.Adam(model.parameters(), lr=2e-5)\n",
    "# lr_scheduler = optim.lr_scheduler.ReduceLROnPlateau(optimizer=optimizer)"
   ]
  },
  {
   "attachments": {},
   "cell_type": "markdown",
   "metadata": {},
   "source": [
    "### Training"
   ]
  },
  {
   "attachments": {},
   "cell_type": "markdown",
   "metadata": {},
   "source": [
    "Hezar comes with a built-in `Trainer` so that model training is as easy and straightforward as possible. As you might have guessed, in order to use a Trainer we first need to setup the config."
   ]
  },
  {
   "cell_type": "code",
   "execution_count": 6,
   "metadata": {},
   "outputs": [],
   "source": [
    "train_config = TrainConfig(\n",
    "    name=\"text_classification\",\n",
    "    device=\"cuda\",\n",
    "    init_weights_from=\"hezar-ai/bert-base-fa\",\n",
    "    batch_size=8,\n",
    "    num_train_epochs=5,\n",
    "    checkpoints_dir=\"checkpoints/\",\n",
    "    metrics={\"f1\": {\"task\": \"multiclass\"}},\n",
    ")"
   ]
  },
  {
   "attachments": {},
   "cell_type": "markdown",
   "metadata": {},
   "source": [
    "Notice that our model is a BERT model with random weights, but we want to finetune it for a simple task. So we need to load the pretrained language model weights. To do this, simply provide the `init_weights_from` parameter which takes a Hub ID to a model and loads the weights to our model. (Missing classification head is automatically ignored)"
   ]
  },
  {
   "attachments": {},
   "cell_type": "markdown",
   "metadata": {},
   "source": [
    "Now that we have our config, lets build the Trainer."
   ]
  },
  {
   "cell_type": "code",
   "execution_count": 7,
   "metadata": {},
   "outputs": [
    {
     "name": "stderr",
     "output_type": "stream",
     "text": [
      "WARNING: Partially loading the weights as the model architecture and the given state dict are incompatible! \n",
      "Ignore this warning in case you plan on fine-tuning this model\n",
      "Incompatible keys: []\n",
      "Missing keys: ['classifier.weight', 'classifier.bias']\n",
      "\n"
     ]
    }
   ],
   "source": [
    "trainer = Trainer(\n",
    "    config=train_config,\n",
    "    model=model,\n",
    "    train_dataset=train_dataset,\n",
    "    eval_dataset=eval_dataset,\n",
    "    data_collator=train_dataset.data_collator,\n",
    "    optimizer=optimizer,\n",
    "    lr_scheduler=lr_scheduler,\n",
    ")"
   ]
  },
  {
   "attachments": {},
   "cell_type": "markdown",
   "metadata": {},
   "source": [
    "Aaaannnddd lets train!"
   ]
  },
  {
   "cell_type": "code",
   "execution_count": 8,
   "metadata": {},
   "outputs": [
    {
     "name": "stdout",
     "output_type": "stream",
     "text": [
      "\n"
     ]
    },
    {
     "name": "stderr",
     "output_type": "stream",
     "text": [
      "Epoch: 1/5      100%|######################################################################| 3576/3576 [07:07<00:00,  8.37batch/s, f1=0.732, loss=0.619]\n",
      "Evaluating...   100%|######################################################################| 290/290 [00:07<00:00, 38.64batch/s, f1=0.8, loss=0.473]  \n"
     ]
    },
    {
     "name": "stdout",
     "output_type": "stream",
     "text": [
      "\n"
     ]
    },
    {
     "name": "stderr",
     "output_type": "stream",
     "text": [
      "Epoch: 2/5      100%|######################################################################| 3576/3576 [07:00<00:00,  8.50batch/s, f1=0.807, loss=0.47] \n",
      "Evaluating...   100%|######################################################################| 290/290 [00:07<00:00, 39.87batch/s, f1=0.838, loss=0.419]\n"
     ]
    },
    {
     "name": "stdout",
     "output_type": "stream",
     "text": [
      "\n"
     ]
    },
    {
     "name": "stderr",
     "output_type": "stream",
     "text": [
      "Epoch: 3/5      100%|######################################################################| 3576/3576 [07:01<00:00,  8.48batch/s, f1=0.864, loss=0.348]\n",
      "Evaluating...   100%|######################################################################| 290/290 [00:07<00:00, 39.97batch/s, f1=0.875, loss=0.346]\n"
     ]
    },
    {
     "name": "stdout",
     "output_type": "stream",
     "text": [
      "\n"
     ]
    },
    {
     "name": "stderr",
     "output_type": "stream",
     "text": [
      "Epoch: 4/5      100%|######################################################################| 3576/3576 [06:57<00:00,  8.56batch/s, f1=0.919, loss=0.227]\n",
      "Evaluating...   100%|######################################################################| 290/290 [00:07<00:00, 38.84batch/s, f1=0.875, loss=0.381]\n"
     ]
    },
    {
     "name": "stdout",
     "output_type": "stream",
     "text": [
      "\n"
     ]
    },
    {
     "name": "stderr",
     "output_type": "stream",
     "text": [
      "Epoch: 5/5      100%|######################################################################| 3576/3576 [07:02<00:00,  8.46batch/s, f1=0.943, loss=0.156]\n",
      "Evaluating...   100%|######################################################################| 290/290 [00:07<00:00, 39.71batch/s, f1=0.887, loss=0.446]\n"
     ]
    }
   ],
   "source": [
    "trainer.train()"
   ]
  },
  {
   "attachments": {},
   "cell_type": "markdown",
   "metadata": {},
   "source": [
    "Training is done! Lets re-evaluate the model"
   ]
  },
  {
   "cell_type": "code",
   "execution_count": 19,
   "metadata": {},
   "outputs": [
    {
     "name": "stderr",
     "output_type": "stream",
     "text": [
      "Evaluating...   100%|######################################################################| 290/290 [00:07<00:00, 39.46batch/s, f1=0.887, loss=0.445]\n"
     ]
    },
    {
     "data": {
      "text/plain": [
       "{'loss': 0.4447593633920468, 'f1': 0.8866379310344827}"
      ]
     },
     "execution_count": 19,
     "metadata": {},
     "output_type": "execute_result"
    }
   ],
   "source": [
    "trainer.evaluate()"
   ]
  },
  {
   "attachments": {},
   "cell_type": "markdown",
   "metadata": {},
   "source": [
    "So we trained the model for 5 epochs. As you can see, everything is verbosed during the process. After each epoch all metrics and weights are logged and saved. Tensorboard logs are saved to a folder called `runs` (you can change this default) and you can inspect it as usual:"
   ]
  },
  {
   "cell_type": "code",
   "execution_count": null,
   "metadata": {},
   "outputs": [],
   "source": [
    "%tensorboard --logdir runs/"
   ]
  },
  {
   "attachments": {},
   "cell_type": "markdown",
   "metadata": {},
   "source": [
    "And the weights are saved to `checkpoints` (you can change this default)."
   ]
  },
  {
   "attachments": {},
   "cell_type": "markdown",
   "metadata": {},
   "source": [
    "### Push to Hub"
   ]
  },
  {
   "attachments": {},
   "cell_type": "markdown",
   "metadata": {},
   "source": [
    "Now we can push our model along with some training specific configs to the Hub! "
   ]
  },
  {
   "cell_type": "code",
   "execution_count": null,
   "metadata": {},
   "outputs": [],
   "source": [
    "trainer.push_to_hub(\"hezar-ai/bert-fa-sentiment-digikala-snappfood\")"
   ]
  }
 ],
 "metadata": {
  "kernelspec": {
   "display_name": "main",
   "language": "python",
   "name": "python3"
  },
  "language_info": {
   "codemirror_mode": {
    "name": "ipython",
    "version": 3
   },
   "file_extension": ".py",
   "mimetype": "text/x-python",
   "name": "python",
   "nbconvert_exporter": "python",
   "pygments_lexer": "ipython3",
   "version": "3.8.5"
  },
  "orig_nbformat": 4
 },
 "nbformat": 4,
 "nbformat_minor": 2
}
